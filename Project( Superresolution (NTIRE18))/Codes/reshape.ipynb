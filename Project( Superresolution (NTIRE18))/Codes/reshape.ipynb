{
 "cells": [
  {
   "cell_type": "code",
   "execution_count": 1,
   "metadata": {},
   "outputs": [],
   "source": [
    "import cv2 as cv\n",
    "import numpy as np\n",
    "import os\n",
    "import matplotlib.pyplot as plt"
   ]
  },
  {
   "cell_type": "code",
   "execution_count": 3,
   "metadata": {},
   "outputs": [],
   "source": [
    "for img in os.listdir(\"DIV2K_train_LR_x8\"):\n",
    "    img_array = cv.imread(\"DIV2K_train_LR_x8/\" + img)\n",
    "    \n",
    "    lr_img_array = cv.resize(img_array, (64, 64))\n",
    "    \n",
    "    cv.imwrite(\"LR_Train_Images/\"+ img, lr_img_array)"
   ]
  },
  {
   "cell_type": "code",
   "execution_count": 4,
   "metadata": {},
   "outputs": [],
   "source": [
    "for img in os.listdir(\"DIV2K_train_HR\"):\n",
    "    img_array = cv.imread(\"DIV2K_train_HR/\" + img)\n",
    "    \n",
    "    hr_img_array = cv.resize(img_array, (256, 256))\n",
    "    \n",
    "    cv.imwrite(\"HR_Train_Images/\"+ img, hr_img_array)"
   ]
  },
  {
   "cell_type": "code",
   "execution_count": 5,
   "metadata": {},
   "outputs": [],
   "source": [
    "for img in os.listdir(\"DIV2K_valid_LR_x8\"):\n",
    "    img_array = cv.imread(\"DIV2K_valid_LR_x8/\" + img)\n",
    "    \n",
    "    lr_img_array = cv.resize(img_array, (64, 64))\n",
    "    \n",
    "    cv.imwrite(\"LR_Test_Images/\"+ img, lr_img_array)"
   ]
  },
  {
   "cell_type": "code",
   "execution_count": 6,
   "metadata": {},
   "outputs": [],
   "source": [
    "for img in os.listdir(\"DIV2K_valid_HR\"):\n",
    "    img_array = cv.imread(\"DIV2K_valid_HR/\" + img)\n",
    "    \n",
    "    hr_img_array = cv.resize(img_array, (256, 256))\n",
    "    \n",
    "    cv.imwrite(\"HR_Test_Images/\"+ img, hr_img_array)"
   ]
  }
 ],
 "metadata": {
  "kernelspec": {
   "display_name": "Python 3",
   "language": "python",
   "name": "python3"
  },
  "language_info": {
   "codemirror_mode": {
    "name": "ipython",
    "version": 3
   },
   "file_extension": ".py",
   "mimetype": "text/x-python",
   "name": "python",
   "nbconvert_exporter": "python",
   "pygments_lexer": "ipython3",
   "version": "3.10.4"
  }
 },
 "nbformat": 4,
 "nbformat_minor": 2
}
